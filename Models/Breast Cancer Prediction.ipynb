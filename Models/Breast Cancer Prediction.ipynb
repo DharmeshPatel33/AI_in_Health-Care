{
 "cells": [
  {
   "cell_type": "code",
   "execution_count": 5,
   "metadata": {},
   "outputs": [
    {
     "name": "stderr",
     "output_type": "stream",
     "text": [
      "c:\\python_installation\\lib\\site-packages\\sklearn\\linear_model\\logistic.py:433: FutureWarning: Default solver will be changed to 'lbfgs' in 0.22. Specify a solver to silence this warning.\n",
      "  FutureWarning)\n",
      "c:\\python_installation\\lib\\site-packages\\sklearn\\svm\\base.py:196: FutureWarning: The default value of gamma will change from 'auto' to 'scale' in version 0.22 to account better for unscaled features. Set gamma explicitly to 'auto' or 'scale' to avoid this warning.\n",
      "  \"avoid this warning.\", FutureWarning)\n"
     ]
    },
    {
     "name": "stdout",
     "output_type": "stream",
     "text": [
      "lr: 94.15204678362574 \n",
      "knn: 92.98245614035088 \n",
      "nb: 90.64327485380117 \n",
      "svm: 94.73684210526315\n"
     ]
    },
    {
     "data": {
      "text/plain": [
       "['Bc_SVM.joblib']"
      ]
     },
     "execution_count": 5,
     "metadata": {},
     "output_type": "execute_result"
    }
   ],
   "source": [
    "#importing libraries\n",
    "import pandas as pd\n",
    "import numpy as np\n",
    "from sklearn.model_selection import train_test_split\n",
    "from sklearn.neighbors import KNeighborsClassifier\n",
    "from sklearn.linear_model import LogisticRegression\n",
    "from sklearn.tree import DecisionTreeClassifier\n",
    "from sklearn.naive_bayes import BernoulliNB\n",
    "from sklearn import svm\n",
    "from sklearn.ensemble import RandomForestClassifier\n",
    "from sklearn.metrics import accuracy_score\n",
    "from keras.models import Sequential\n",
    "from keras.layers import Dense\n",
    "from joblib import dump, load\n",
    "from copy import deepcopy\n",
    "from collections import Counter\n",
    "import random\n",
    "\n",
    "random.seed = 9999\n",
    "\n",
    "#reading the data\n",
    "d = pd.read_csv('dataset_for_breastcancer.csv')\n",
    "\n",
    "y=d.diagnosis\n",
    "list1=['id', 'diagnosis','radius_se', 'texture_se', 'perimeter_se', 'area_se', 'smoothness_se',\n",
    "       'compactness_se', 'concavity_se', 'concave points_se', 'symmetry_se',\n",
    "       'fractal_dimension_se', 'radius_worst', 'texture_worst',\n",
    "       'perimeter_worst', 'area_worst', 'smoothness_worst',\n",
    "       'compactness_worst', 'concavity_worst', 'concave points_worst',\n",
    "       'symmetry_worst', 'fractal_dimension_worst']     \n",
    "\n",
    "x=d.drop(list1,axis=1)\n",
    "\n",
    "x = (x - np.mean(x))/np.std(x)\n",
    "\n",
    "x_train, x_test, y_train, y_test = train_test_split(x, y, test_size=0.3,random_state=0)\n",
    "\n",
    "#knn\n",
    "\n",
    "def KNN():\n",
    "\n",
    "    global x_train,x_test,y_train,y_test\n",
    "\n",
    "    model = KNeighborsClassifier(n_neighbors = 10)\n",
    "    model.fit(x_train,y_train)\n",
    "\n",
    "    #returning object & accuracy\n",
    "    return {'model':model,\n",
    "            'accuracy':model.score(x_test,y_test)*100}\n",
    "\n",
    "#LogisticRegression\n",
    "\n",
    "def Logistic_Regression():\n",
    "\n",
    "    global x_train,x_test,y_train,y_test\n",
    "\n",
    "    model = LogisticRegression()\n",
    "    model.fit(x_train,y_train)\n",
    "\n",
    "    #returning object & accuracy\n",
    "    return {'model':model,\n",
    "            'accuracy':model.score(x_test,y_test)*100}\n",
    "\n",
    "#svm\n",
    "\n",
    "def SVM_Classifier():\n",
    "\n",
    "\n",
    "    global x_train,x_test,y_train,y_test\n",
    "\n",
    "    model = svm.SVC()\n",
    "    model.fit(x_train,y_train)\n",
    "\n",
    "    #returning object & accuracy\n",
    "    return {'model':model,\n",
    "            'accuracy':model.score(x_test,y_test)*100}\n",
    "\n",
    "def NaiveBayes():\n",
    "\n",
    "    global x_train,x_test,y_train,y_test\n",
    "\n",
    "    model = BernoulliNB()\n",
    "\n",
    "    model.fit(x_train,y_train)\n",
    "\n",
    "    return {'model':model,\n",
    "            'accuracy':accuracy_score(model.predict(x_test), y_test)*100}\n",
    "\n",
    "lr = Logistic_Regression()\n",
    "knn = KNN()\n",
    "nb = NaiveBayes()\n",
    "svm = SVM_Classifier()\n",
    "\n",
    "#printing\n",
    "print('lr:',lr['accuracy'],\n",
    "      '\\nknn:',knn['accuracy'],\n",
    "      '\\nnb:',nb['accuracy'],\n",
    "      '\\nsvm:',svm['accuracy'])\n",
    "\n",
    "\n",
    "\n",
    "#dumping of model\n",
    "dump(lr,'Bc_Logistic.joblib')\n",
    "dump(knn,'Bc_KNN.joblib')\n",
    "dump(nb,'Bc_NaiveBayse.joblib')\n",
    "dump(svm,'Bc_SVM.joblib')\n"
   ]
  },
  {
   "cell_type": "code",
   "execution_count": null,
   "metadata": {},
   "outputs": [],
   "source": []
  }
 ],
 "metadata": {
  "kernelspec": {
   "display_name": "Python 3",
   "language": "python",
   "name": "python3"
  },
  "language_info": {
   "codemirror_mode": {
    "name": "ipython",
    "version": 3
   },
   "file_extension": ".py",
   "mimetype": "text/x-python",
   "name": "python",
   "nbconvert_exporter": "python",
   "pygments_lexer": "ipython3",
   "version": "3.6.5"
  }
 },
 "nbformat": 4,
 "nbformat_minor": 2
}
