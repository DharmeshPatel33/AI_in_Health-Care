{
  "nbformat": 4,
  "nbformat_minor": 0,
  "metadata": {
    "colab": {
      "name": "Python_Revision.ipynb",
      "provenance": [],
      "collapsed_sections": [],
      "authorship_tag": "ABX9TyOkZ2hBPhH2wuBHfTZ7IxT3",
      "include_colab_link": true
    },
    "kernelspec": {
      "name": "python3",
      "display_name": "Python 3"
    }
  },
  "cells": [
    {
      "cell_type": "markdown",
      "metadata": {
        "id": "view-in-github",
        "colab_type": "text"
      },
      "source": [
        "<a href=\"https://colab.research.google.com/github/DharmeshPatel33/AI_in_Health-Care/blob/master/Python_Revision.ipynb\" target=\"_parent\"><img src=\"https://colab.research.google.com/assets/colab-badge.svg\" alt=\"Open In Colab\"/></a>"
      ]
    },
    {
      "cell_type": "code",
      "metadata": {
        "colab": {
          "base_uri": "https://localhost:8080/"
        },
        "id": "LCS0v-3Vm0et",
        "outputId": "5f159a28-3148-449e-fd84-f32d337e9f0b"
      },
      "source": [
        "# 1. Input from users\n",
        "number1=float(input('Please enter number 1'))\n",
        "number2=int(input('Please enter number 2'))\n",
        "\n",
        "print(number1+number2)"
      ],
      "execution_count": 7,
      "outputs": [
        {
          "output_type": "stream",
          "text": [
            "Please enter number 110.22\n",
            "Please enter number 222\n",
            "32.22\n"
          ],
          "name": "stdout"
        }
      ]
    },
    {
      "cell_type": "code",
      "metadata": {
        "colab": {
          "base_uri": "https://localhost:8080/"
        },
        "id": "YnQD4mdpotTy",
        "outputId": "be4a710c-48d6-4dda-d521-91137b75f82f"
      },
      "source": [
        "#2. check num is odd or even?\n",
        "n=13\n",
        "if(n%2==0):\n",
        "  print(\"Number is even\")\n",
        "else:\n",
        "  print(\"Number is odd\")"
      ],
      "execution_count": 9,
      "outputs": [
        {
          "output_type": "stream",
          "text": [
            "Number is odd\n"
          ],
          "name": "stdout"
        }
      ]
    },
    {
      "cell_type": "code",
      "metadata": {
        "colab": {
          "base_uri": "https://localhost:8080/"
        },
        "id": "YCev4Ddcpdq9",
        "outputId": "dd92b3f1-7d89-4777-d033-9a2be9331d12"
      },
      "source": [
        "#3. Check nums is greater?\n",
        "N1=40\n",
        "N2=20\n",
        "if(N1>N2):\n",
        "  print(\"N1 is greater\")\n",
        "else:\n",
        "  print(\"N2 is Greater\")"
      ],
      "execution_count": 11,
      "outputs": [
        {
          "output_type": "stream",
          "text": [
            "N1 is greater\n"
          ],
          "name": "stdout"
        }
      ]
    },
    {
      "cell_type": "code",
      "metadata": {
        "colab": {
          "base_uri": "https://localhost:8080/"
        },
        "id": "dc_pOv6cp7bn",
        "outputId": "6be11295-f7af-47e7-f815-ed1f1c20f6c8"
      },
      "source": [
        "#4. Print all num in given range (1,10)\n",
        "for i in range(1,11):\n",
        "  print(i)"
      ],
      "execution_count": 12,
      "outputs": [
        {
          "output_type": "stream",
          "text": [
            "1\n",
            "2\n",
            "3\n",
            "4\n",
            "5\n",
            "6\n",
            "7\n",
            "8\n",
            "9\n",
            "10\n"
          ],
          "name": "stdout"
        }
      ]
    },
    {
      "cell_type": "code",
      "metadata": {
        "colab": {
          "base_uri": "https://localhost:8080/"
        },
        "id": "yFs5pE-MqdCK",
        "outputId": "21af8c41-54f5-4a20-9172-985f7715cdbe"
      },
      "source": [
        "#5. print all num in given range(10,1) using while loop\n",
        "m=10\n",
        "while(m>0):\n",
        "  print(m)\n",
        "  m=m-1"
      ],
      "execution_count": 15,
      "outputs": [
        {
          "output_type": "stream",
          "text": [
            "10\n",
            "9\n",
            "8\n",
            "7\n",
            "6\n",
            "5\n",
            "4\n",
            "3\n",
            "2\n",
            "1\n"
          ],
          "name": "stdout"
        }
      ]
    },
    {
      "cell_type": "code",
      "metadata": {
        "colab": {
          "base_uri": "https://localhost:8080/"
        },
        "id": "hZpNuj3NrJj4",
        "outputId": "bc177352-ea19-4ed5-aa7e-14cdd93abbba"
      },
      "source": [
        "#6. Data structures, List, Set, Disc,Tuple\n",
        "list=[1,2,3,4,1,2,3,2,1]\n",
        "set={1,2,3,5,1,2}\n",
        "tuple=(1,2,3)\n",
        "dics={\"Name\":\"Dharmesh\",\"Age\":30,\"post\":\"Professor\"} #{key:value}\n",
        "print(list[2])\n",
        "print(set)\n",
        "print(tuple[0])\n",
        "print(dics['Name'])\n",
        "print(dics.keys())\n",
        "print(dics.values())"
      ],
      "execution_count": 25,
      "outputs": [
        {
          "output_type": "stream",
          "text": [
            "3\n",
            "{1, 2, 3, 5}\n",
            "1\n",
            "Dharmesh\n",
            "dict_keys(['Name', 'Age', 'post'])\n",
            "dict_values(['Dharmesh', 30, 'Professor'])\n"
          ],
          "name": "stdout"
        }
      ]
    },
    {
      "cell_type": "code",
      "metadata": {
        "colab": {
          "base_uri": "https://localhost:8080/"
        },
        "id": "SvV1s0DOs6X7",
        "outputId": "67e35310-d3f3-4831-d6c5-bd5128df4501"
      },
      "source": [
        "#7. Find out sum of list elements\n",
        "List=[10,2,12,35,51]\n",
        "sum=0\n",
        "for item in List:\n",
        "  sum=sum+item\n",
        "  print(sum)\n",
        "\n",
        "print(sum)\n"
      ],
      "execution_count": 28,
      "outputs": [
        {
          "output_type": "stream",
          "text": [
            "10\n",
            "12\n",
            "24\n",
            "59\n",
            "110\n",
            "110\n"
          ],
          "name": "stdout"
        }
      ]
    },
    {
      "cell_type": "code",
      "metadata": {
        "colab": {
          "base_uri": "https://localhost:8080/"
        },
        "id": "gONc5W9WuRLu",
        "outputId": "980112e9-767c-4ba1-a185-746da7662054"
      },
      "source": [
        "#8. vector addition\n",
        "vector1=[0,1,2,3,4]\n",
        "vector2=[6,7,8,9,10]\n",
        "result_vector=[0,0,0,0,0]\n",
        "for i in range(0,5):\n",
        "  result_vector[i]=vector1[i]+vector2[i]\n",
        "print(result_vector)\n",
        "\n"
      ],
      "execution_count": 32,
      "outputs": [
        {
          "output_type": "stream",
          "text": [
            "[6, 8, 10, 12, 14]\n"
          ],
          "name": "stdout"
        }
      ]
    },
    {
      "cell_type": "code",
      "metadata": {
        "colab": {
          "base_uri": "https://localhost:8080/"
        },
        "id": "6gRWIxo-vVQ6",
        "outputId": "d45e1e68-19be-45e3-a0bb-8c01d1fb43f5"
      },
      "source": [
        "#9. Matrix addition\n",
        "Matrix1=[[1,2]\n",
        "         ,[3,4]]\n",
        "\n",
        "Matrix2=[[1,2]\n",
        "         ,[3,4]]\n",
        "\n",
        "result_Matrix=[[0,0]\n",
        "               ,[0,0]]\n",
        "for i in range(0,2): #row\n",
        "  for j in range(0,2): #col\n",
        "    result_Matrix[i][j]=Matrix1[i][j]+Matrix2[i][j]\n",
        "\n",
        "print(result_Matrix)"
      ],
      "execution_count": 35,
      "outputs": [
        {
          "output_type": "stream",
          "text": [
            "[[2, 4], [6, 8]]\n"
          ],
          "name": "stdout"
        }
      ]
    },
    {
      "cell_type": "code",
      "metadata": {
        "id": "zsnG3Vmxn7us"
      },
      "source": [
        "#"
      ],
      "execution_count": null,
      "outputs": []
    }
  ]
}